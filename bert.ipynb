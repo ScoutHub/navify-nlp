{
 "cells": [
  {
   "cell_type": "code",
   "execution_count": 21,
   "metadata": {},
   "outputs": [],
   "source": [
    "import pandas as pd"
   ]
  },
  {
   "cell_type": "code",
   "execution_count": 22,
   "metadata": {},
   "outputs": [],
   "source": [
    "class_list = ['NOT_TRIP', 'TRIP']"
   ]
  },
  {
   "cell_type": "code",
   "execution_count": 23,
   "metadata": {},
   "outputs": [],
   "source": [
    "df = pd.read_csv(\"datasets/bert_ds.csv\", delimiter=';')"
   ]
  },
  {
   "cell_type": "code",
   "execution_count": 24,
   "metadata": {},
   "outputs": [],
   "source": [
    "del df['origin']\n",
    "del df['destination']\n",
    "del df['detours']\n",
    "df.drop(columns=df.columns[0], axis=1, inplace=True)"
   ]
  },
  {
   "cell_type": "code",
   "execution_count": 25,
   "metadata": {},
   "outputs": [],
   "source": [
    "df['pred_class'] = df.apply(lambda x: 1 if x[\"is_trip\"] == 1 else 0,axis=1)\n",
    "del df['is_trip']"
   ]
  },
  {
   "cell_type": "code",
   "execution_count": null,
   "metadata": {},
   "outputs": [],
   "source": [
    "df.head()"
   ]
  },
  {
   "cell_type": "code",
   "execution_count": null,
   "metadata": {},
   "outputs": [],
   "source": [
    "from sklearn.model_selection import train_test_split\n",
    " \n",
    "train_df, test_df = train_test_split(df, test_size=0.10)\n",
    " \n",
    "print('train shape: ',train_df.shape)\n",
    "print('test shape: ',test_df.shape)"
   ]
  },
  {
   "cell_type": "code",
   "execution_count": 8,
   "metadata": {},
   "outputs": [],
   "source": [
    "from simpletransformers.classification import ClassificationModel"
   ]
  },
  {
   "cell_type": "code",
   "execution_count": 29,
   "metadata": {},
   "outputs": [],
   "source": [
    "train_args ={\n",
    "    \"reprocess_input_data\": True,\n",
    "    \"fp16\":False,\n",
    "    \"num_train_epochs\": 4\n",
    "}"
   ]
  },
  {
   "cell_type": "code",
   "execution_count": null,
   "metadata": {},
   "outputs": [],
   "source": [
    "model = ClassificationModel(\n",
    "    \"bert\", \"dbmdz/bert-base-french-europeana-cased\",\n",
    "    num_labels=2,\n",
    "    args=train_args,\n",
    "    use_cuda=False,\n",
    ")"
   ]
  },
  {
   "cell_type": "code",
   "execution_count": null,
   "metadata": {},
   "outputs": [],
   "source": [
    "model.train_model(train_df)"
   ]
  },
  {
   "cell_type": "code",
   "execution_count": null,
   "metadata": {},
   "outputs": [],
   "source": [
    "from sklearn.metrics import f1_score, accuracy_score\n",
    " \n",
    "def f1_multiclass(labels, preds):\n",
    "    return f1_score(labels, preds, average='micro')\n",
    " \n",
    "result, model_outputs, wrong_predictions = model.eval_model(test_df, f1=f1_multiclass, acc=accuracy_score)"
   ]
  },
  {
   "cell_type": "code",
   "execution_count": null,
   "metadata": {},
   "outputs": [],
   "source": [
    "result"
   ]
  },
  {
   "cell_type": "code",
   "execution_count": null,
   "metadata": {},
   "outputs": [],
   "source": [
    "test = \"j'aimerais aller a strasbourg depuis paris\"\n",
    "predictions, raw_outputs = model.predict([test])\n",
    "print(class_list[predictions[0]])"
   ]
  },
  {
   "cell_type": "code",
   "execution_count": 9,
   "metadata": {},
   "outputs": [],
   "source": [
    "import os\n",
    "import tarfile"
   ]
  },
  {
   "cell_type": "code",
   "execution_count": 10,
   "metadata": {},
   "outputs": [],
   "source": [
    "def pack_model(model_path='',file_name=''):\n",
    "  files = [files for root, dirs, files in os.walk(model_path)][0]\n",
    "  with tarfile.open(file_name+ '.tar.gz', 'w:gz') as f:\n",
    "    for file in files:\n",
    "      f.add(f'{model_path}/{file}')"
   ]
  },
  {
   "cell_type": "code",
   "execution_count": 11,
   "metadata": {},
   "outputs": [],
   "source": [
    "pack_model('outputs', 'bert-fr-trip')"
   ]
  },
  {
   "cell_type": "code",
   "execution_count": 81,
   "metadata": {},
   "outputs": [],
   "source": [
    "ds_val = pd.read_csv(\"datasets/bert_ds_val.csv\", delimiter=';')\n",
    "\n",
    "del ds_val['origin']\n",
    "del ds_val['destination']\n",
    "del ds_val['detours']\n",
    "ds_val.drop(columns=ds_val.columns[0], axis=1, inplace=True)\n",
    "\n",
    "ds_val['pred_class'] = ds_val.apply(lambda x: 1 if x[\"is_trip\"] == 1 else 0,axis=1)\n",
    "del ds_val['is_trip']"
   ]
  },
  {
   "cell_type": "code",
   "execution_count": 83,
   "metadata": {},
   "outputs": [],
   "source": [
    "ds_val = ds_val.sample(frac=1)"
   ]
  },
  {
   "cell_type": "code",
   "execution_count": null,
   "metadata": {},
   "outputs": [],
   "source": [
    "ds_val"
   ]
  },
  {
   "cell_type": "code",
   "execution_count": 90,
   "metadata": {},
   "outputs": [],
   "source": [
    "result = 0"
   ]
  },
  {
   "cell_type": "code",
   "execution_count": null,
   "metadata": {},
   "outputs": [],
   "source": [
    "for _, row in ds_val.iterrows():\n",
    "    text = row['text']\n",
    "    real_val = row['pred_class']\n",
    "    predictions, _ = model.predict([text])\n",
    "    print(f'text: {text}')\n",
    "    print(f'\\tPREDICTED: {class_list[predictions[0]]}')\n",
    "    print(f'\\tREAL: {class_list[real_val]}')\n",
    "    if(class_list[predictions[0]] == class_list[real_val]):\n",
    "        result += 1"
   ]
  },
  {
   "cell_type": "code",
   "execution_count": null,
   "metadata": {},
   "outputs": [],
   "source": [
    "print(f'Number of rows in val: {len(ds_val)}')\n",
    "print(f'Accuracy: {(result * 100) / len(ds_val):.2f}%')"
   ]
  }
 ],
 "metadata": {
  "kernelspec": {
   "display_name": ".venv",
   "language": "python",
   "name": "python3"
  },
  "language_info": {
   "codemirror_mode": {
    "name": "ipython",
    "version": 3
   },
   "file_extension": ".py",
   "mimetype": "text/x-python",
   "name": "python",
   "nbconvert_exporter": "python",
   "pygments_lexer": "ipython3",
   "version": "3.9.6"
  }
 },
 "nbformat": 4,
 "nbformat_minor": 2
}
