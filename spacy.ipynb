{
 "cells": [
  {
   "cell_type": "code",
   "execution_count": 2,
   "metadata": {},
   "outputs": [],
   "source": [
    "import pandas as pd\n",
    "import re"
   ]
  },
  {
   "cell_type": "code",
   "execution_count": 115,
   "metadata": {},
   "outputs": [],
   "source": [
    "data = pd.read_csv(\"datasets/spacy_ds.csv\", delimiter=';')"
   ]
  },
  {
   "cell_type": "code",
   "execution_count": 125,
   "metadata": {},
   "outputs": [],
   "source": [
    "train_data = []"
   ]
  },
  {
   "cell_type": "code",
   "execution_count": 126,
   "metadata": {},
   "outputs": [],
   "source": [
    "for _, row in data.iterrows():\n",
    "    text = row['text']\n",
    "    origin = row['origin']\n",
    "    destination = row['destination']\n",
    "    detours = row['detours'] if pd.notna(row['detours']) else \"\"\n",
    "    \n",
    "    origin_match = re.search(rf\"\\b{re.escape(origin)}\\b\", text.lower())\n",
    "    if origin_match:\n",
    "        start_origin = origin_match.start()\n",
    "        end_origin = origin_match.end()\n",
    "\n",
    "    destination_match = re.search(rf\"\\b{re.escape(destination)}\\b\", text.lower())\n",
    "    if destination_match:\n",
    "        start_destination = destination_match.start()\n",
    "        end_destination = destination_match.end()\n",
    "\n",
    "    detour_positions = []\n",
    "    \n",
    "    if detours:\n",
    "        for detour in detours.split(\",\"):\n",
    "            detour = detour.strip()\n",
    "            detour_match = re.search(rf\"\\b{re.escape(detour)}\\b\", text.lower())\n",
    "            if detour_match:\n",
    "                start_detour = text.lower().find(detour)\n",
    "                end_detour = start_detour + len(detour)\n",
    "                \n",
    "                if start_detour >= 0 and (\n",
    "                    end_detour <= start_origin or start_detour >= end_origin\n",
    "                ) and (\n",
    "                    end_detour <= start_destination or start_detour >= end_destination\n",
    "                ):\n",
    "                    overlap = any(\n",
    "                        (start < end_detour and end > start_detour)\n",
    "                        for start, end, _ in detour_positions\n",
    "                    )\n",
    "                    if not overlap:\n",
    "                        detour_positions.append((start_detour, end_detour, \"DETOUR\"))\n",
    "    \n",
    "    entities = [\n",
    "        (start_origin, end_origin, \"ORIGIN\"),\n",
    "        (start_destination, end_destination, \"DESTINATION\")\n",
    "    ] + detour_positions\n",
    "\n",
    "    train_data.append((text, {\"entities\": entities}))"
   ]
  },
  {
   "cell_type": "code",
   "execution_count": 127,
   "metadata": {},
   "outputs": [
    {
     "data": {
      "text/plain": [
       "10500"
      ]
     },
     "execution_count": 127,
     "metadata": {},
     "output_type": "execute_result"
    }
   ],
   "source": [
    "len(train_data)"
   ]
  },
  {
   "cell_type": "code",
   "execution_count": 4,
   "metadata": {},
   "outputs": [
    {
     "name": "stderr",
     "output_type": "stream",
     "text": [
      "/Users/gurkan/coding/python/navify_nlp/.venv/lib/python3.9/site-packages/urllib3/__init__.py:35: NotOpenSSLWarning: urllib3 v2 only supports OpenSSL 1.1.1+, currently the 'ssl' module is compiled with 'LibreSSL 2.8.3'. See: https://github.com/urllib3/urllib3/issues/3020\n",
      "  warnings.warn(\n"
     ]
    }
   ],
   "source": [
    "import spacy\n",
    "from spacy.training.example import Example\n",
    "import random"
   ]
  },
  {
   "cell_type": "code",
   "execution_count": 128,
   "metadata": {},
   "outputs": [],
   "source": [
    "nlp = spacy.blank(\"fr\")\n",
    "\n",
    "if \"ner\" not in nlp.pipe_names:\n",
    "    ner = nlp.add_pipe(\"ner\", last=True)\n",
    "else:\n",
    "    ner = nlp.get_pipe(\"ner\")\n",
    "\n",
    "ner.add_label(\"ORIGIN\")\n",
    "ner.add_label(\"DESTINATION\")\n",
    "ner.add_label(\"DETOUR\")\n",
    "\n",
    "optimizer = nlp.begin_training()"
   ]
  },
  {
   "cell_type": "code",
   "execution_count": 129,
   "metadata": {},
   "outputs": [
    {
     "name": "stdout",
     "output_type": "stream",
     "text": [
      "Itération 0 - Losses: {'ner': 20593.038040185715}\n",
      "Itération 1 - Losses: {'ner': 12278.376547064434}\n",
      "Itération 2 - Losses: {'ner': 10244.39264769106}\n",
      "Itération 3 - Losses: {'ner': 8949.409452502552}\n",
      "Itération 4 - Losses: {'ner': 7993.648581530898}\n",
      "Itération 5 - Losses: {'ner': 7254.491256480974}\n",
      "Itération 6 - Losses: {'ner': 6700.574295276065}\n",
      "Itération 7 - Losses: {'ner': 6609.825125060915}\n",
      "Itération 8 - Losses: {'ner': 6387.979754652851}\n",
      "Itération 9 - Losses: {'ner': 6284.619403910409}\n"
     ]
    }
   ],
   "source": [
    "for itn in range(10):\n",
    "    random.shuffle(train_data)\n",
    "    losses = {}\n",
    "    for text, annotations in train_data:\n",
    "        try:\n",
    "            example = Example.from_dict(nlp.make_doc(text), annotations)\n",
    "            nlp.update([example], losses=losses, drop=0.5, sgd=optimizer)\n",
    "        except ValueError as error:\n",
    "            print(f'Error for text: {text}, annotations: {annotations}')\n",
    "    print(f\"Itération {itn} - Losses: {losses}\")"
   ]
  },
  {
   "cell_type": "code",
   "execution_count": 137,
   "metadata": {},
   "outputs": [],
   "source": [
    "nlp.to_disk(\"models/spacy_model\")"
   ]
  },
  {
   "cell_type": "code",
   "execution_count": 5,
   "metadata": {},
   "outputs": [],
   "source": [
    "nlp = spacy.load('models/spacy_model')"
   ]
  },
  {
   "cell_type": "code",
   "execution_count": 6,
   "metadata": {},
   "outputs": [],
   "source": [
    "from langdetect import detect, LangDetectException"
   ]
  },
  {
   "cell_type": "code",
   "execution_count": 8,
   "metadata": {},
   "outputs": [],
   "source": [
    "from unidecode import unidecode\n",
    "import re"
   ]
  },
  {
   "cell_type": "code",
   "execution_count": 9,
   "metadata": {},
   "outputs": [],
   "source": [
    "def test_trip_request(text):\n",
    "    text = unidecode(text).lower()\n",
    "    text = re.sub(r'[^\\w\\s]', '', text)\n",
    "\n",
    "    doc = nlp(text)\n",
    "    origin, destination = None, None\n",
    "    detours = []\n",
    "\n",
    "    for ent in doc.ents:\n",
    "        if ent.label_ == \"ORIGIN\":\n",
    "            origin = ent.text\n",
    "        elif ent.label_ == \"DESTINATION\":\n",
    "            destination = ent.text\n",
    "        elif ent.label_ == \"DETOUR\":\n",
    "            detours.append(ent.text)\n",
    "    \n",
    "    if origin and destination:\n",
    "        return (text, origin, destination, detours)\n",
    "    else:\n",
    "        return \"NOT_TRIP\""
   ]
  },
  {
   "cell_type": "code",
   "execution_count": 10,
   "metadata": {},
   "outputs": [],
   "source": [
    "def show_infos(origin, destination, detours):\n",
    "    print(f'Depart: {origin}')\n",
    "    print(f'Arrivée: {destination}')\n",
    "    detours_sentence = \"\"\n",
    "    for i in range(len(detours)):\n",
    "        if(i == len(detours) - 1):\n",
    "            detours_sentence += detours[i]\n",
    "        else:\n",
    "            detours_sentence += detours[i] + \", \"\n",
    "    print(f'Détours: {detours_sentence if len(detours) > 0 else \"Aucun\"}\\n')"
   ]
  },
  {
   "cell_type": "code",
   "execution_count": 13,
   "metadata": {},
   "outputs": [],
   "source": [
    "val_ds = pd.read_csv(\"datasets/spacy_ds_val.csv\", delimiter=';')"
   ]
  },
  {
   "cell_type": "code",
   "execution_count": 11,
   "metadata": {},
   "outputs": [],
   "source": [
    "test_phrases = [\n",
    "    \"Je veux aller de paris à vendenheim\",\n",
    "    \"J'aimerai aller de lille à nice\",\n",
    "    \"Voyage de rouen jusqu'à nice\",\n",
    "    \"Quel est le trajet de toulouse à bordeaux ?\",\n",
    "    \"Je veux aller de paris à lyon en passant par nice\",\n",
    "    \"En passant par toulouse, je veux aller de paris à lyon\",\n",
    "    \"Quel est le trajet de strasbourg à bordeaux ?\",\n",
    "    \"Quel est le trajet de bordeaux à strasbourg en passant par lyon ?\",\n",
    "    \"Comment me rendre à strasbourg depuis nice ?\",\n",
    "    \"En passant par Lyon, j'aimerai aller à Nice depuis Strasbourg\",\n",
    "]"
   ]
  },
  {
   "cell_type": "code",
   "execution_count": 15,
   "metadata": {},
   "outputs": [
    {
     "name": "stdout",
     "output_type": "stream",
     "text": [
      "je suis a st martin de blagny et jaimerais me rendre a gurcy le chatel en passant par lourdoueix st michel bazus montfort l amaury et st brieuc des iffs\n"
     ]
    }
   ],
   "source": [
    "result = 0\n",
    "not_trip = []\n",
    "for _, row in val_ds.iterrows():\n",
    "    value = test_trip_request(row['text'])\n",
    "    if value != 'NOT_TRIP':\n",
    "        result += 1\n",
    "    else:\n",
    "        print(row['text'])\n",
    "        not_trip.append(row['text'])"
   ]
  },
  {
   "cell_type": "code",
   "execution_count": 16,
   "metadata": {},
   "outputs": [
    {
     "name": "stdout",
     "output_type": "stream",
     "text": [
      "accuracy: 93.33%\n"
     ]
    }
   ],
   "source": [
    "accuracy = (result * 100) / len(val_ds)\n",
    "print(f'accuracy: {accuracy:.02f}%')"
   ]
  },
  {
   "cell_type": "code",
   "execution_count": 17,
   "metadata": {},
   "outputs": [
    {
     "data": {
      "text/plain": [
       "['je suis a st martin de blagny et jaimerais me rendre a gurcy le chatel en passant par lourdoueix st michel bazus montfort l amaury et st brieuc des iffs']"
      ]
     },
     "execution_count": 17,
     "metadata": {},
     "output_type": "execute_result"
    }
   ],
   "source": [
    "not_trip"
   ]
  },
  {
   "cell_type": "code",
   "execution_count": 12,
   "metadata": {},
   "outputs": [
    {
     "name": "stdout",
     "output_type": "stream",
     "text": [
      "sentence: Je veux aller de paris à vendenheim\n",
      "('je veux aller de paris a vendenheim', 'paris', 'vendenheim', [])\n",
      "sentence: J'aimerai aller de lille à nice\n",
      "('jaimerai aller de lille a nice', 'lille', 'nice', [])\n",
      "sentence: Voyage de rouen jusqu'à nice\n",
      "('voyage de rouen jusqua nice', 'rouen', 'nice', [])\n",
      "sentence: Quel est le trajet de toulouse à bordeaux ?\n",
      "('quel est le trajet de toulouse a bordeaux ', 'toulouse', 'bordeaux', [])\n",
      "sentence: Je veux aller de paris à lyon en passant par nice\n",
      "('je veux aller de paris a lyon en passant par nice', 'paris', 'lyon', ['nice'])\n",
      "sentence: En passant par toulouse, je veux aller de paris à lyon\n",
      "('en passant par toulouse je veux aller de paris a lyon', 'paris', 'lyon', ['toulouse'])\n",
      "sentence: Quel est le trajet de strasbourg à bordeaux ?\n",
      "('quel est le trajet de strasbourg a bordeaux ', 'strasbourg', 'bordeaux', [])\n",
      "sentence: Quel est le trajet de bordeaux à strasbourg en passant par lyon ?\n",
      "('quel est le trajet de bordeaux a strasbourg en passant par lyon ', 'bordeaux', 'strasbourg', ['lyon'])\n",
      "sentence: Comment me rendre à strasbourg depuis nice ?\n",
      "('comment me rendre a strasbourg depuis nice ', 'nice', 'strasbourg', [])\n",
      "sentence: En passant par Lyon, j'aimerai aller à Nice depuis Strasbourg\n",
      "('en passant par lyon jaimerai aller a nice depuis strasbourg', 'strasbourg', 'nice', ['lyon'])\n"
     ]
    }
   ],
   "source": [
    "for phrase in test_phrases:\n",
    "    print(f\"sentence: {phrase}\")\n",
    "    print(test_trip_request(phrase.lower()))"
   ]
  },
  {
   "cell_type": "code",
   "execution_count": 135,
   "metadata": {},
   "outputs": [
    {
     "data": {
      "text/plain": [
       "('jaimerais me rendre a lyon depuis strasbourg', 'strasbourg', 'lyon', [])"
      ]
     },
     "execution_count": 135,
     "metadata": {},
     "output_type": "execute_result"
    }
   ],
   "source": [
    "phrase = \"j'aimerais me rendre à lyon depuis strasbourg\"\n",
    "test_trip_request(phrase)"
   ]
  }
 ],
 "metadata": {
  "kernelspec": {
   "display_name": ".venv",
   "language": "python",
   "name": "python3"
  },
  "language_info": {
   "codemirror_mode": {
    "name": "ipython",
    "version": 3
   },
   "file_extension": ".py",
   "mimetype": "text/x-python",
   "name": "python",
   "nbconvert_exporter": "python",
   "pygments_lexer": "ipython3",
   "version": "3.9.6"
  }
 },
 "nbformat": 4,
 "nbformat_minor": 2
}
