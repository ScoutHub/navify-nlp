{
 "cells": [
  {
   "cell_type": "code",
   "execution_count": 2,
   "metadata": {},
   "outputs": [],
   "source": [
    "import json\n",
    "import matplotlib.pyplot as plt"
   ]
  },
  {
   "cell_type": "code",
   "execution_count": 3,
   "metadata": {},
   "outputs": [],
   "source": [
    "with open('assets/liste-des-circuits-de-voie.json', 'r', encoding='utf-8') as f:\n",
    "    voies_data = json.load(f)"
   ]
  },
  {
   "cell_type": "code",
   "execution_count": 4,
   "metadata": {},
   "outputs": [],
   "source": [
    "with open('assets/gares-de-voyageurs.json', 'r', encoding='utf-8') as f:\n",
    "    gares_data = json.load(f)"
   ]
  },
  {
   "cell_type": "code",
   "execution_count": 5,
   "metadata": {},
   "outputs": [],
   "source": [
    "voies_segments = []\n",
    "for voie in voies_data:\n",
    "    if 'geo_shape' in voie and 'geometry' in voie['geo_shape']:\n",
    "        if voie['geo_shape']['geometry']['type'] == \"LineString\":\n",
    "            coordinates = voie['geo_shape']['geometry']['coordinates']\n",
    "            voies_segments.append(coordinates)"
   ]
  },
  {
   "cell_type": "code",
   "execution_count": 6,
   "metadata": {},
   "outputs": [],
   "source": [
    "gares_positions = []\n",
    "for gare in gares_data:\n",
    "    if 'position_geographique' in gare and gare['position_geographique'] != None:\n",
    "        lon = gare['position_geographique']['lon']\n",
    "        lat = gare['position_geographique']['lat']\n",
    "        gares_positions.append((lon, lat))"
   ]
  },
  {
   "cell_type": "code",
   "execution_count": null,
   "metadata": {},
   "outputs": [],
   "source": [
    "plt.figure(figsize=(12, 10))\n",
    "\n",
    "for segment in voies_segments:\n",
    "    lons, lats = zip(*segment)\n",
    "    plt.plot(lons, lats, color='gray', linewidth=0.5, alpha=0.7)\n",
    "\n",
    "plt.title(\"Réseau ferré SNCF en France\", fontsize=14)\n",
    "plt.xlabel(\"Longitude\", fontsize=12)\n",
    "plt.ylabel(\"Latitude\", fontsize=12)\n",
    "plt.legend()\n",
    "plt.grid(True)\n",
    "plt.axis('equal')\n",
    "plt.show()"
   ]
  },
  {
   "cell_type": "code",
   "execution_count": null,
   "metadata": {},
   "outputs": [],
   "source": [
    "plt.figure(figsize=(12, 10))\n",
    "gare_lons, gare_lats = zip(*gares_positions)\n",
    "plt.scatter(gare_lons, gare_lats, color='red', s=2, label='Gares')\n",
    "\n",
    "plt.title(\"Réseau gares SNCF en France\", fontsize=14)\n",
    "plt.xlabel(\"Longitude\", fontsize=12)\n",
    "plt.ylabel(\"Latitude\", fontsize=12)\n",
    "plt.legend()\n",
    "plt.grid(True)\n",
    "plt.axis('equal')\n",
    "plt.show()"
   ]
  },
  {
   "cell_type": "code",
   "execution_count": null,
   "metadata": {},
   "outputs": [],
   "source": [
    "plt.figure(figsize=(12, 10))\n",
    "\n",
    "for segment in voies_segments:\n",
    "    lons, lats = zip(*segment)\n",
    "    plt.plot(lons, lats, color='gray', linewidth=0.5, alpha=0.7)\n",
    "\n",
    "gare_lons, gare_lats = zip(*gares_positions)\n",
    "plt.scatter(gare_lons, gare_lats, color='red', s=2, label='Gares')\n",
    "\n",
    "plt.title(\"Réseau ferré SNCF en France\", fontsize=14)\n",
    "plt.xlabel(\"Longitude\", fontsize=12)\n",
    "plt.ylabel(\"Latitude\", fontsize=12)\n",
    "plt.legend()\n",
    "plt.grid(True)\n",
    "plt.axis('equal')\n",
    "plt.show()"
   ]
  },
  {
   "cell_type": "code",
   "execution_count": 7,
   "metadata": {},
   "outputs": [],
   "source": [
    "import math\n",
    "import heapq"
   ]
  },
  {
   "cell_type": "code",
   "execution_count": null,
   "metadata": {},
   "outputs": [],
   "source": [
    "def haversine(lat1, lon1, lat2, lon2):\n",
    "    \"\"\"Calcule la distance géographique en mètres entre deux points.\"\"\"\n",
    "    R = 6371000\n",
    "    phi1, phi2 = math.radians(lat1), math.radians(lat2)\n",
    "    delta_phi = math.radians(lat2 - lat1)\n",
    "    delta_lambda = math.radians(lon2 - lon1)\n",
    "    a = math.sin(delta_phi/2)**2 + math.cos(phi1) * math.cos(phi2) * math.sin(delta_lambda/2)**2\n",
    "    return R * 2 * math.atan2(math.sqrt(a), math.sqrt(1 - a))\n"
   ]
  },
  {
   "cell_type": "code",
   "execution_count": 9,
   "metadata": {},
   "outputs": [],
   "source": [
    "gares_dict = {gare['nom']: (gare['position_geographique']['lat'], gare['position_geographique']['lon']) for gare in gares_data if gare['position_geographique'] != None}"
   ]
  },
  {
   "cell_type": "code",
   "execution_count": null,
   "metadata": {},
   "outputs": [],
   "source": [
    "graph = {gare['nom']: [] for gare in gares_data}\n",
    "\n",
    "for voie in voies_data:\n",
    "    if 'geo_shape' in voie and 'geometry' in voie['geo_shape']:\n",
    "        if voie['geo_shape']['geometry']['type'] == \"LineString\":\n",
    "            coordinates = voie['geo_shape']['geometry']['coordinates']\n",
    "\n",
    "            for i in range(len(coordinates) - 1):\n",
    "                lon1, lat1 = coordinates[i]\n",
    "                lon2, lat2 = coordinates[i + 1]\n",
    "                distance = haversine(lat1, lon1, lat2, lon2)\n",
    "                # Trouver les gares les plus proches\n",
    "                gare1 = min(gares_dict.keys(), key=lambda g: haversine(lat1, lon1, *gares_dict[g]))\n",
    "                gare2 = min(gares_dict.keys(), key=lambda g: haversine(lat2, lon2, *gares_dict[g]))\n",
    "                if gare1 != gare2:\n",
    "                    graph[gare1].append((gare2, distance))\n",
    "                    graph[gare2].append((gare1, distance))\n"
   ]
  },
  {
   "cell_type": "code",
   "execution_count": 176,
   "metadata": {},
   "outputs": [],
   "source": [
    "ville_to_gares = {}\n",
    "for gare in gares_data:\n",
    "    nom_ville = gare.get('nom')\n",
    "    nom_ville = nom_ville.lower()\n",
    "    if not nom_ville:\n",
    "        continue\n",
    "    \n",
    "    ville = nom_ville.split(\" \")[0].strip()\n",
    "    ville = ville.lower()\n",
    "    if ville not in ville_to_gares:\n",
    "        ville_to_gares[ville] = []\n",
    "    ville_to_gares[ville].append(gare['nom'])"
   ]
  },
  {
   "cell_type": "code",
   "execution_count": 179,
   "metadata": {},
   "outputs": [],
   "source": [
    "def trouver_gares(ville):\n",
    "    return ville_to_gares.get(ville, [])"
   ]
  },
  {
   "cell_type": "code",
   "execution_count": 130,
   "metadata": {},
   "outputs": [],
   "source": [
    "def dijkstra(graph, start, end):\n",
    "    queue = []\n",
    "    heapq.heappush(queue, (0, start))\n",
    "    distances = {node: float('inf') for node in graph}\n",
    "    distances[start] = 0\n",
    "    previous_nodes = {node: None for node in graph}\n",
    "    \n",
    "    while queue:\n",
    "        current_distance, current_node = heapq.heappop(queue)\n",
    "        if current_distance > distances[current_node]:\n",
    "            continue\n",
    "        \n",
    "        for neighbor, weight in graph[current_node]:\n",
    "            distance = current_distance + weight\n",
    "            if distance < distances[neighbor]:\n",
    "                distances[neighbor] = distance\n",
    "                previous_nodes[neighbor] = current_node\n",
    "                heapq.heappush(queue, (distance, neighbor))\n",
    "                \n",
    "    path = []\n",
    "    current = end\n",
    "    while current:\n",
    "        path.append(current)\n",
    "        current = previous_nodes[current]\n",
    "    path.reverse()\n",
    "    \n",
    "    return path, distances[end]"
   ]
  },
  {
   "cell_type": "code",
   "execution_count": 145,
   "metadata": {},
   "outputs": [],
   "source": [
    "def detecter_gares_principales(ville, gares_possibles, graph):\n",
    "    # Trier les gares par connectivité décroissante\n",
    "    gares_avec_connectivite = [(gare, len(graph.get(gare, []))) for gare in gares_possibles]\n",
    "    gares_triees = sorted(gares_avec_connectivite, key=lambda x: x[1], reverse=True)\n",
    "    \n",
    "    # Filtrer les gares avec le nom de la ville pour renforcer la pertinence\n",
    "    gares_filtrees = [gare for gare, _ in gares_triees if ville.lower() in gare.lower()]\n",
    "    \n",
    "    # Retourner les gares principales détectées\n",
    "    return gares_filtrees if gares_filtrees else [gare for gare, _ in gares_triees]"
   ]
  },
  {
   "cell_type": "code",
   "execution_count": 157,
   "metadata": {},
   "outputs": [],
   "source": [
    "def trouver_itineraire_avec_detours_v2(graph, depart, arrivee, detours, ville_to_gares):\n",
    "    \"\"\"\n",
    "    Trouve l'itinéraire le plus rapide en passant par une liste de détours.\n",
    "    \n",
    "    :param graph: Graphe représentant le réseau SNCF\n",
    "    :param depart: Ville de départ\n",
    "    :param arrivee: Ville d'arrivée\n",
    "    :param detours: Liste des villes par lesquelles passer\n",
    "    :param ville_to_gares: Dictionnaire {ville: [gares]}\n",
    "    :return: Chemin complet et distance totale\n",
    "    \"\"\"\n",
    "    villes = [depart] + detours + [arrivee]\n",
    "\n",
    "    chemin_complet = []\n",
    "    distance_totale = 0\n",
    "\n",
    "    for i in range(len(villes) - 1):\n",
    "        ville_depart = villes[i]\n",
    "        ville_arrivee = villes[i + 1]\n",
    "        \n",
    "        gares_depart = ville_to_gares.get(ville_depart, [])\n",
    "        gares_arrivee = ville_to_gares.get(ville_arrivee, [])\n",
    "        \n",
    "        if not gares_depart:\n",
    "            raise ValueError(f\"Ville de départ non trouvée : {ville_depart}\")\n",
    "        if not gares_arrivee:\n",
    "            raise ValueError(f\"Ville d'arrivée non trouvée : {ville_arrivee}\")\n",
    "        \n",
    "        gares_depart_principales = detecter_gares_principales(ville_depart, gares_depart, graph)\n",
    "        gares_arrivee_principales = detecter_gares_principales(ville_arrivee, gares_arrivee, graph)\n",
    "        \n",
    "        min_distance = float('inf')\n",
    "        meilleur_segment = None\n",
    "\n",
    "        for gare_depart in gares_depart_principales:\n",
    "            for gare_arrivee in gares_arrivee_principales:\n",
    "                try:\n",
    "                    chemin, distance = dijkstra(graph, gare_depart, gare_arrivee)\n",
    "                    if distance < min_distance:\n",
    "                        min_distance = distance\n",
    "                        meilleur_segment = (chemin, distance)\n",
    "                except KeyError:\n",
    "                    continue\n",
    "\n",
    "        if meilleur_segment:\n",
    "            chemin_segment, distance_segment = meilleur_segment\n",
    "            chemin_complet.extend(chemin_segment[:-1])  # On évite de dupliquer les nœuds\n",
    "            distance_totale += distance_segment\n",
    "        else:\n",
    "            raise ValueError(f\"Aucun itinéraire valide trouvé entre {ville_depart} et {ville_arrivee}.\")\n",
    "\n",
    "    # Ajouter la dernière gare du dernier segment\n",
    "    chemin_complet.append(chemin_segment[-1])\n",
    "    return chemin_complet, distance_totale\n"
   ]
  },
  {
   "cell_type": "code",
   "execution_count": 11,
   "metadata": {},
   "outputs": [],
   "source": [
    "with open(\"graph_sncf.json\", \"r\", encoding=\"utf-8\") as f:\n",
    "    graph = json.load(f)"
   ]
  },
  {
   "cell_type": "code",
   "execution_count": 112,
   "metadata": {},
   "outputs": [],
   "source": [
    "connectivite = {gare: len(adjacents) for gare, adjacents in graph.items()}"
   ]
  },
  {
   "cell_type": "code",
   "execution_count": null,
   "metadata": {},
   "outputs": [],
   "source": [
    "depart = \"Strasbourg\"\n",
    "arrivee = \"Marseille\"\n",
    "\n",
    "if depart not in graph or arrivee not in graph:\n",
    "    print(\"Une des gares spécifiées n'existe pas dans les données.\")\n",
    "else:\n",
    "    distance, chemin = dijkstra(graph, depart, arrivee)\n",
    "    print(f\"Distance totale : {distance:.2f} mètres\")\n",
    "    print(f'Chemin: {chemin}')\n",
    "    print(f'Depart: {chemin[0]}')\n",
    "    print(f'Arrivee: {chemin[-1]}')\n"
   ]
  },
  {
   "cell_type": "code",
   "execution_count": null,
   "metadata": {},
   "outputs": [],
   "source": [
    "depart = \"strasbourg\"\n",
    "arrivee = \"bordeaux\"\n",
    "detours = [\"lyon\"]\n",
    "\n",
    "chemin, distance = trouver_itineraire_avec_detours_v2(graph, depart, arrivee, detours, ville_to_gares)\n",
    "\n",
    "print(\"Itinéraire avec détours :\")\n",
    "print(f\"  Chemin : {chemin}\")\n",
    "print(f\"  Gare départ : {chemin[0]}\")\n",
    "print(f\"  Gare arrivée : {chemin[-1]}\")\n",
    "print(f'  Détours: {detours}')\n",
    "print(f\"  Distance totale : {(distance/10):.2f} km\")"
   ]
  },
  {
   "cell_type": "code",
   "execution_count": 196,
   "metadata": {},
   "outputs": [],
   "source": [
    "gares_depart = trouver_gares(depart)\n",
    "gares_arrivee = trouver_gares(arrivee)"
   ]
  },
  {
   "cell_type": "code",
   "execution_count": null,
   "metadata": {},
   "outputs": [],
   "source": [
    "if not gares_depart or not gares_arrivee:\n",
    "    print(f\"Ville de départ non trouvée : {depart}\")\n",
    "    print(f\"Ville d'arrivée non trouvée : {arrivee}\")\n",
    "else:\n",
    "    print(f\"Gares possibles pour {depart} : {gares_depart}\")\n",
    "    print(f\"Gares possibles pour {arrivee} : {gares_arrivee}\")\n",
    "    min_distance = float('inf')\n",
    "    meilleur_chemin = None\n",
    "    meilleure_gare_depart = None\n",
    "    meilleure_gare_arrivee = None\n",
    "\n",
    "    for gare_depart in sorted(gares_depart, key=lambda x: connectivite.get(x, 0), reverse=True):\n",
    "        for gare_arrivee in sorted(gares_arrivee, key=lambda x: connectivite.get(x, 0), reverse=True):\n",
    "            try:\n",
    "                chemin, distance = dijkstra(graph, gare_depart, gare_arrivee)\n",
    "                score = distance - (connectivite.get(gare_depart, 0) + connectivite.get(gare_arrivee, 0))\n",
    "                \n",
    "                if score < min_distance:\n",
    "                    min_distance = score\n",
    "                    meilleur_chemin = chemin\n",
    "                    meilleure_gare_depart = gare_depart\n",
    "                    meilleure_gare_arrivee = gare_arrivee\n",
    "            except KeyError:\n",
    "                continue\n",
    "\n",
    "\n",
    "    if meilleur_chemin is not None:\n",
    "        print(f\"Meilleur itinéraire trouvé :\")\n",
    "        print(f\"  Gare de départ : {meilleure_gare_depart}\")\n",
    "        print(f\"  Gare d'arrivée : {meilleure_gare_arrivee}\")\n",
    "        print(f\"  Chemin : {meilleur_chemin}\")\n",
    "        print(f\"  Distance totale : {(min_distance/10):.2f} km\")\n",
    "        \n",
    "    else:\n",
    "        print(\"Aucun itinéraire valide trouvé entre les villes spécifiées.\")\n"
   ]
  },
  {
   "cell_type": "code",
   "execution_count": null,
   "metadata": {},
   "outputs": [],
   "source": [
    "coordinates = []\n",
    "for gare in chemin:\n",
    "    if gare in gares_dict:\n",
    "        coordinates.append(gares_dict[gare])\n",
    "    else:\n",
    "        print(f\"Coordonnées manquantes pour la gare : {gare}\")\n",
    "\n",
    "lats_chemin, lons_chemin = zip(*coordinates)\n",
    "\n",
    "plt.figure(figsize=(12, 10))\n",
    "\n",
    "for segment in voies_segments:\n",
    "    lons, lats = zip(*segment)\n",
    "    plt.plot(lons, lats, color='gray', linewidth=0.5, alpha=0.7)\n",
    "\n",
    "plt.plot(lons_chemin, lats_chemin, marker='o', color='blue', label='Itinéraire')  # Lignes et points\n",
    "\n",
    "plt.title(\"Réseau ferré SNCF en France\", fontsize=14)\n",
    "plt.xlabel(\"Longitude\", fontsize=12)\n",
    "plt.ylabel(\"Latitude\", fontsize=12)\n",
    "plt.legend()\n",
    "plt.grid(True)\n",
    "plt.axis('equal')\n",
    "plt.show()"
   ]
  },
  {
   "cell_type": "code",
   "execution_count": 26,
   "metadata": {},
   "outputs": [],
   "source": [
    "graph_filepath = \"graph_sncf.json\"\n",
    "with open(graph_filepath, 'w', encoding='utf-8') as f:\n",
    "    json.dump(graph, f, ensure_ascii=False, indent=2)"
   ]
  }
 ],
 "metadata": {
  "kernelspec": {
   "display_name": ".venv",
   "language": "python",
   "name": "python3"
  },
  "language_info": {
   "codemirror_mode": {
    "name": "ipython",
    "version": 3
   },
   "file_extension": ".py",
   "mimetype": "text/x-python",
   "name": "python",
   "nbconvert_exporter": "python",
   "pygments_lexer": "ipython3",
   "version": "3.9.6"
  }
 },
 "nbformat": 4,
 "nbformat_minor": 2
}
